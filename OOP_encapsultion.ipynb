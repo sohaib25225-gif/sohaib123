{
  "nbformat": 4,
  "nbformat_minor": 0,
  "metadata": {
    "colab": {
      "provenance": []
    },
    "kernelspec": {
      "name": "python3",
      "display_name": "Python 3"
    },
    "language_info": {
      "name": "python"
    }
  },
  "cells": [
    {
      "cell_type": "markdown",
      "source": [
        "Encapsultion and access of its public,protect,and private method or Attribute.\n",
        "Encapsultion:Encapsulation is an object-oriented programming concept in which data (variables) and methods (functions) are combined into a single unit (class), while restricting direct access to the data and allowing controlled access through methods (getters/setters).\n",
        "\n",
        "👉 In very short:\n",
        "Encapsulation = Data Hiding + Controlled Access."
      ],
      "metadata": {
        "id": "1eUIh2j7nRq4"
      }
    },
    {
      "cell_type": "markdown",
      "source": [
        "**Accesss of Private method or Attribute BY a process called Mangling in python**"
      ],
      "metadata": {
        "id": "HQyN0C70o-tk"
      }
    },
    {
      "cell_type": "code",
      "execution_count": null,
      "metadata": {
        "colab": {
          "base_uri": "https://localhost:8080/"
        },
        "id": "ddAY4aJfks_x",
        "outputId": "ad010861-0ac1-4138-e394-663e9597b526"
      },
      "outputs": [
        {
          "output_type": "stream",
          "name": "stdout",
          "text": [
            "sohaib ahmad\n",
            "19\n",
            "my name is:sohaib ahmad, and my age is:19,and my marks is:55\n",
            "None\n"
          ]
        }
      ],
      "source": [
        "class Information:\n",
        "    def __init__ (self,name,_age,__marks):\n",
        "        self.name=name\n",
        "        self._age=_age\n",
        "        self.__marks=__marks\n",
        "    def display_info(self):\n",
        "        print(f\"my name is:{self.name}, and my age is:{self._age},and my marks is:{self.__marks}\")\n",
        "\n",
        "sk=Information(\"sohaib ahmad\",19,55)\n",
        "print(sk .name)\n",
        "print(sk._age)\n",
        "# print(sk.__marks)                        ## Because we cannot direct access private attribute\n",
        "# print(sk._Information__marks             ## we access a private attribute by this method.Because Python change the name of private Attribute by a\n",
        "                                           ##process called  mangling.we access by this way _class name__private Attribute.\n",
        "print(sk.display_info())"
      ]
    },
    {
      "cell_type": "markdown",
      "source": [
        "** Access of private method or Attribute by Getters/Setters**"
      ],
      "metadata": {
        "id": "LXu0IJiUouY3"
      }
    },
    {
      "cell_type": "code",
      "source": [
        "class Company:\n",
        "    def __init__ (self,__price,color):\n",
        "        self.__price=__price\n",
        "        self.color=color\n",
        "    def add(self):\n",
        "        print(f\"price is :{self .__price},and color is :{self.color}\")\n",
        "    def get_price(self):   ## getter method to get update price\n",
        "        return self.__price\n",
        "    def set__price(self,new__price):   ## setter method to set price\n",
        "        if 0<=new__price<=100:\n",
        "          self.__price=new__price\n",
        "        else:\n",
        "            print(\"price must be between 0 and 100\")\n",
        "sk=Company(94,\"black\")\n",
        "print(sk.color)\n",
        "print(sk.get_price())\n",
        "sk.set__price(95)\n",
        "print(sk.get_price())\n",
        "sk.add()"
      ],
      "metadata": {
        "colab": {
          "base_uri": "https://localhost:8080/"
        },
        "id": "ggcx_2fnohjt",
        "outputId": "7e41658d-7560-4a51-c0e7-b2fc3cd2483d"
      },
      "execution_count": null,
      "outputs": [
        {
          "output_type": "stream",
          "name": "stdout",
          "text": [
            "black\n",
            "94\n",
            "95\n",
            "price is :95,and color is :black\n"
          ]
        }
      ]
    }
  ]
}